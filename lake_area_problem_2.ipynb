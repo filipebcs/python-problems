{
  "cells": [
    {
      "cell_type": "markdown",
      "metadata": {
        "id": "3ZLqMhUapp4O"
      },
      "source": [
        "# Exercício Python no notebook Google Colab"
      ]
    },
    {
      "cell_type": "markdown",
      "metadata": {
        "id": "2RVMzCvAyQtB"
      },
      "source": [
        "ATENÇÃO: Primeiro copie esse notebook para sua área, resolva-o e retorne o seu link no formulário, não esquecendo de compartilhar o seu notebook Colab com qualquer pessoa que tenha acesso ao link."
      ]
    },
    {
      "cell_type": "markdown",
      "metadata": {
        "id": "oiBYTaycO4AS"
      },
      "source": [
        "## Preencha seu nome e email:\n",
        "\n",
        "Nome: Filipe de Castro Borges da Silveira\n",
        "\n",
        "Email: filipebcs8@gmail.com"
      ]
    },
    {
      "cell_type": "markdown",
      "metadata": {
        "id": "0Zj3u99uRFqI"
      },
      "source": [
        "## Enunciado\n",
        "Você receberá uma matriz (uma lista de listas) de, possivelmente, altura e largura diferentes contendo apenas `0`s e `1`s. Cada `0` representa terra e cada `1` representa água. Uma lagoa é composta por qualquer número de `1`s verticalmente ou horizontalmente adjacentes (mas não diagonalmente adjacentes). O número de `1`s adjacentes determina a área da lagoa.\n",
        "\n",
        "Escreva uma função que retorna uma lista com as áreas das lagoas contidas na matriz em ordem crescente."
      ]
    },
    {
      "cell_type": "markdown",
      "metadata": {
        "id": "46MxEtZhVS1Q"
      },
      "source": [
        "Um exemplo é:\n",
        "\n",
        "Dada a matriz\n",
        "\n",
        "```\n",
        "matrix = [\n",
        "    [1, 1, 0, 1, 0],\n",
        "    [1, 0, 1, 0, 0],\n",
        "    [0, 0, 1, 0, 1],\n",
        "    [1, 0, 1, 0, 1],\n",
        "    [1, 0, 1, 1, 0]\n",
        "]\n",
        "```\n",
        "A resposta esperada é uma lista com os tamanhos dos rios\n",
        "\n",
        "```\n",
        "sizes = [1, 2, 2, 3, 5]\n",
        "```"
      ]
    },
    {
      "cell_type": "markdown",
      "metadata": {
        "id": "JH3Ixn1AUu8O"
      },
      "source": [
        "Os critérios de avaliação são legibilidade do código e corretude do algoritmo, outros aspectos como performance e técnicas de programação não serão avaliados."
      ]
    },
    {
      "cell_type": "markdown",
      "metadata": {
        "id": "JgW3yfL5Sux1"
      },
      "source": [
        "Você pode usar qualquer função built-in do python, pode utilizar funções auxiliares, criar classes e etc. Deve-se apenas manter a assinatura da função `lake_areas`. Na dúvida, submeter sua melhor tentativa documentando seu raciocínio é melhor do que não submeter nada :)"
      ]
    },
    {
      "cell_type": "code",
      "execution_count": 622,
      "metadata": {
        "id": "ZqixjszATBjE"
      },
      "outputs": [],
      "source": [
        "from typing import List\n",
        "\n",
        "def lake_areas(matrix: List[List[int]]) -> List[int]:\n",
        "    # Write your code here.\n",
        "    pass"
      ]
    },
    {
      "cell_type": "code",
      "execution_count": 623,
      "metadata": {
        "colab": {
          "base_uri": "https://localhost:8080/"
        },
        "id": "a2ACOVHL1BvQ",
        "outputId": "02d01684-b184-475d-b485-7af9a3d7818c"
      },
      "outputs": [],
      "source": [
        "# Importar bibliotecas relevantes\n",
        "import numpy as np\n",
        "import itertools"
      ]
    },
    {
      "cell_type": "code",
      "execution_count": 624,
      "metadata": {},
      "outputs": [],
      "source": [
        "# Definir a matriz de lagos original\n",
        "matrix = [\n",
        "    [1, 1, 0, 1, 0],\n",
        "    [1, 0, 1, 0, 0],\n",
        "    [0, 0, 1, 0, 1],\n",
        "    [1, 0, 1, 0, 1],\n",
        "    [1, 0, 1, 1, 0]\n",
        "]\n",
        "matrix = np.array(matrix)"
      ]
    },
    {
      "cell_type": "code",
      "execution_count": 625,
      "metadata": {},
      "outputs": [],
      "source": [
        "# Definir a matriz de lagos de teste\n",
        "matrix_2 = [\n",
        "    [1, 1, 0, 1, 0, 0],\n",
        "    [1, 0, 1, 0, 0, 1],\n",
        "    [0, 1, 1, 0, 1, 0],\n",
        "    [1, 0, 1, 0, 1, 0],\n",
        "    [1, 0, 1, 1, 0, 1]\n",
        "]\n",
        "matrix_2 = np.array(matrix_2)\n",
        "#lastRow = len(matrix_2) - 1\n",
        "#lastColumn = len(matrix_2[0]) - 1\n"
      ]
    },
    {
      "cell_type": "code",
      "execution_count": 626,
      "metadata": {},
      "outputs": [],
      "source": [
        "# Inicializar os rótulos dos grupos\n",
        "grupo = 1\n",
        "ultimoGrupo = 1\n",
        "\n",
        "# Inicializar arrays vazios\n",
        "colunas = []\n",
        "linhas = []\n",
        "vizinhos = []\n",
        "vizinhosReferencia = []\n",
        "vizinhosComparador = []\n",
        "grupoReferencia = []\n",
        "grupoComparador = []\n",
        "posicoes = []\n",
        "registro = []\n",
        "registroGrupos = []\n",
        "entradas = []"
      ]
    },
    {
      "cell_type": "markdown",
      "metadata": {},
      "source": [
        "# Criar uma nova matriz de mesmas dimensões para armazenar a classificação em grupos\n",
        "matrixGrupos = np.zeros(matrix_2.shape)"
      ]
    },
    {
      "cell_type": "code",
      "execution_count": 627,
      "metadata": {},
      "outputs": [],
      "source": [
        "# Identificar as respectivas linhas e colunas de cada entrada '1' na matriz\n",
        "for i in range(matrix_2.shape[0]):\n",
        "    \n",
        "    for j in range(matrix_2.shape[1]):\n",
        "    \n",
        "        if matrix_2[i][j] == 1:\n",
        "            #entradas.append([i, j])\n",
        "            linhas.append(i)\n",
        "            colunas.append(j)"
      ]
    },
    {
      "cell_type": "code",
      "execution_count": 628,
      "metadata": {},
      "outputs": [],
      "source": [
        "# Monta um array com as posições das entradas '1' no formato \"['linha', 'coluna']\"\n",
        "posicoes = np.column_stack((np.array(linhas), np.array(colunas)))"
      ]
    },
    {
      "cell_type": "code",
      "execution_count": 629,
      "metadata": {},
      "outputs": [],
      "source": [
        "# Montar matriz cujas colunas 0 e 1 são o ponto de referência e coluna 2 e 3 são o ponto comparador\n",
        "for referencia in range(posicoes.shape[0]):\n",
        "    \n",
        "    for comparador in range(referencia, posicoes.shape[0]):\n",
        "        \n",
        "        if (posicoes[referencia] == posicoes[comparador]).all():\n",
        "            continue\n",
        "        \n",
        "        posicaoRelativa = np.sum(abs(posicoes[referencia] - posicoes[comparador]))\n",
        "        \n",
        "        if posicaoRelativa <= 1:\n",
        "            #print('Referencia 0: %d\\t Referencia 1: %d' % (referencia[0], referencia[1]))\n",
        "            #vizinhos.append([posicoes[referencia][0], posicoes[referencia][1], 0, posicoes[comparador][0], posicoes[comparador][1], 0])\n",
        "            vizinhosReferencia.append([posicoes[referencia][0], posicoes[referencia][1]])\n",
        "            vizinhosComparador.append([posicoes[comparador][0], posicoes[comparador][1]])"
      ]
    },
    {
      "cell_type": "code",
      "execution_count": 630,
      "metadata": {},
      "outputs": [
        {
          "data": {
            "text/plain": [
              "[[0, 0], [0, 0], [1, 2], [2, 1], [2, 2], [2, 4], [3, 0], [3, 2], [4, 2]]"
            ]
          },
          "execution_count": 630,
          "metadata": {},
          "output_type": "execute_result"
        }
      ],
      "source": [
        "vizinhosReferencia"
      ]
    },
    {
      "cell_type": "code",
      "execution_count": 631,
      "metadata": {},
      "outputs": [
        {
          "data": {
            "text/plain": [
              "[[0, 1], [1, 0], [2, 2], [2, 2], [3, 2], [3, 4], [4, 0], [4, 2], [4, 3]]"
            ]
          },
          "execution_count": 631,
          "metadata": {},
          "output_type": "execute_result"
        }
      ],
      "source": [
        "vizinhosComparador"
      ]
    },
    {
      "cell_type": "code",
      "execution_count": 632,
      "metadata": {},
      "outputs": [],
      "source": [
        "gruposReferencia = np.zeros(len(vizinhosReferencia))\n",
        "gruposComparador = np.zeros(len(vizinhosComparador))"
      ]
    },
    {
      "cell_type": "code",
      "execution_count": 646,
      "metadata": {},
      "outputs": [
        {
          "name": "stdout",
          "output_type": "stream",
          "text": [
            "\n",
            "\n",
            "\n",
            "\n",
            "Diferenca:  1\n",
            "Diferenca:  4\n",
            "Diferenca:  4\n",
            "Diferenca:  5\n",
            "Diferenca:  7\n",
            "Diferenca:  4\n",
            "Diferenca:  6\n",
            "Diferenca:  7\n",
            "\n",
            "\n",
            "Diferenca:  2\n",
            "Diferenca:  1\n",
            "Diferenca:  1\n",
            "Diferenca:  2\n",
            "Diferenca:  4\n",
            "Diferenca:  5\n",
            "Diferenca:  3\n",
            "Diferenca:  4\n",
            "\n",
            "\n",
            "Diferenca:  2\n",
            "Diferenca:  1\n",
            "Diferenca:  1\n",
            "Diferenca:  2\n",
            "Diferenca:  4\n",
            "Diferenca:  3\n",
            "Diferenca:  3\n",
            "Diferenca:  4\n",
            "\n",
            "\n",
            "Diferenca:  3\n",
            "Diferenca:  0\n",
            "Diferenca:  0\n",
            "Diferenca:  1\n",
            "Diferenca:  3\n",
            "Diferenca:  4\n",
            "Diferenca:  2\n",
            "Diferenca:  3\n",
            "\n",
            "\n",
            "Diferenca:  5\n",
            "Diferenca:  2\n",
            "Diferenca:  2\n",
            "Diferenca:  3\n",
            "Diferenca:  1\n",
            "Diferenca:  6\n",
            "Diferenca:  4\n",
            "Diferenca:  3\n",
            "\n",
            "\n",
            "Diferenca:  2\n",
            "Diferenca:  3\n",
            "Diferenca:  3\n",
            "Diferenca:  2\n",
            "Diferenca:  4\n",
            "Diferenca:  1\n",
            "Diferenca:  3\n",
            "Diferenca:  4\n",
            "\n",
            "\n",
            "Diferenca:  4\n",
            "Diferenca:  1\n",
            "Diferenca:  1\n",
            "Diferenca:  0\n",
            "Diferenca:  2\n",
            "Diferenca:  3\n",
            "Diferenca:  1\n",
            "Diferenca:  2\n",
            "\n",
            "\n",
            "Diferenca:  5\n",
            "Diferenca:  2\n",
            "Diferenca:  2\n",
            "Diferenca:  1\n",
            "Diferenca:  3\n",
            "Diferenca:  2\n",
            "Diferenca:  0\n",
            "Diferenca:  1\n",
            "8\n"
          ]
        }
      ],
      "source": [
        "for conti, i in enumerate(vizinhosReferencia):\n",
        "    print('\\n')\n",
        "    \n",
        "    for contj, j in enumerate(vizinhosComparador):\n",
        "        \n",
        "        if (conti == 0) and (contj == 0):\n",
        "            gruposReferencia[conti] = 1\n",
        "            gruposComparador[contj] = 1\n",
        "        \n",
        "        elif (conti > 0) and (contj > 0):\n",
        "            diferenca = np.sum(np.abs(np.array(i) - np.array(j)))\n",
        "            \n",
        "            \n",
        "\n",
        "            print('Diferenca: ', diferenca)\n",
        "\n",
        "print(conti)"
      ]
    },
    {
      "cell_type": "code",
      "execution_count": 634,
      "metadata": {},
      "outputs": [
        {
          "data": {
            "text/plain": [
              "1"
            ]
          },
          "execution_count": 634,
          "metadata": {},
          "output_type": "execute_result"
        }
      ],
      "source": [
        "np.sum(np.abs(np.array([0, 1]) - np.array([1, 1])))"
      ]
    },
    {
      "cell_type": "code",
      "execution_count": 635,
      "metadata": {},
      "outputs": [
        {
          "data": {
            "text/plain": [
              "array([[1, 1, 0, 1, 0, 0],\n",
              "       [1, 0, 1, 0, 0, 1],\n",
              "       [0, 1, 1, 0, 1, 0],\n",
              "       [1, 0, 1, 0, 1, 0],\n",
              "       [1, 0, 1, 1, 0, 1]])"
            ]
          },
          "execution_count": 635,
          "metadata": {},
          "output_type": "execute_result"
        }
      ],
      "source": [
        "matrix_2"
      ]
    },
    {
      "cell_type": "code",
      "execution_count": 636,
      "metadata": {},
      "outputs": [
        {
          "data": {
            "text/plain": [
              "[[0, 0], [0, 0], [1, 2], [2, 1], [2, 2], [2, 4], [3, 0], [3, 2], [4, 2]]"
            ]
          },
          "execution_count": 636,
          "metadata": {},
          "output_type": "execute_result"
        }
      ],
      "source": [
        "vizinhosReferencia"
      ]
    },
    {
      "cell_type": "code",
      "execution_count": 637,
      "metadata": {},
      "outputs": [
        {
          "data": {
            "text/plain": [
              "[]"
            ]
          },
          "execution_count": 637,
          "metadata": {},
          "output_type": "execute_result"
        }
      ],
      "source": [
        "registro"
      ]
    },
    {
      "cell_type": "code",
      "execution_count": 638,
      "metadata": {},
      "outputs": [],
      "source": [
        "registro = []\n",
        "\n",
        "for cont, _ in enumerate(vizinhosReferencia):\n",
        "    \n",
        "    if cont == 0:\n",
        "        \n",
        "        if vizinhosReferencia[cont] == vizinhosComparador[cont]:\n",
        "            registro.append(vizinhosReferencia[cont])\n",
        "            registroGrupos.append(grupo)\n",
        "        \n",
        "        else:\n",
        "            registro.append(vizinhosReferencia[cont])\n",
        "            registro.append(vizinhosComparador[cont])\n",
        "            registroGrupos.append(grupo)\n",
        "    \n",
        "    else:\n",
        "        \n",
        "        if vizinhosReferencia[cont] not in registro:\n",
        "            grupo += 1\n",
        "            \n",
        "            if vizinhosReferencia[cont] == vizinhosComparador[cont]:\n",
        "                registro.append(vizinhosReferencia[cont])\n",
        "                registroGrupos.append(grupo)\n",
        "                \n",
        "            else:\n",
        "                registro.append(vizinhosReferencia[cont])\n",
        "                registro.append(vizinhosComparador[cont])\n",
        "                registroGrupos.append(grupo)\n",
        "                registroGrupos.append(grupo)\n",
        "            \n",
        "        if vizinhosComparador[cont] not in registro:\n",
        "            grupo += 1\n",
        "            \n",
        "            if vizinhosComparador[cont] == vizinhosReferencia[cont]:\n",
        "                registro.append(vizinhosComparador[cont])\n",
        "                registroGrupos.append(grupo)\n",
        "                \n",
        "            else:\n",
        "                registro.append(vizinhosReferencia[cont])\n",
        "                registro.append(vizinhosComparador[cont])\n",
        "                registroGrupos.append(grupo)\n",
        "                registroGrupos.append(grupo)\n",
        "                \n",
        "                "
      ]
    },
    {
      "cell_type": "code",
      "execution_count": 639,
      "metadata": {},
      "outputs": [
        {
          "data": {
            "text/plain": [
              "[[0, 0],\n",
              " [0, 1],\n",
              " [0, 0],\n",
              " [1, 0],\n",
              " [1, 2],\n",
              " [2, 2],\n",
              " [2, 1],\n",
              " [2, 2],\n",
              " [2, 2],\n",
              " [3, 2],\n",
              " [2, 4],\n",
              " [3, 4],\n",
              " [3, 0],\n",
              " [4, 0],\n",
              " [3, 2],\n",
              " [4, 2],\n",
              " [4, 2],\n",
              " [4, 3]]"
            ]
          },
          "execution_count": 639,
          "metadata": {},
          "output_type": "execute_result"
        }
      ],
      "source": [
        "registro"
      ]
    },
    {
      "cell_type": "code",
      "execution_count": 640,
      "metadata": {},
      "outputs": [
        {
          "data": {
            "text/plain": [
              "[1, 2, 2, 3, 3, 4, 4, 5, 5, 6, 6, 7, 7, 8, 8, 9, 9]"
            ]
          },
          "execution_count": 640,
          "metadata": {},
          "output_type": "execute_result"
        }
      ],
      "source": [
        "registroGrupos"
      ]
    },
    {
      "cell_type": "code",
      "execution_count": 641,
      "metadata": {},
      "outputs": [
        {
          "data": {
            "text/plain": [
              "9"
            ]
          },
          "execution_count": 641,
          "metadata": {},
          "output_type": "execute_result"
        }
      ],
      "source": [
        "grupo"
      ]
    },
    {
      "cell_type": "markdown",
      "metadata": {},
      "source": [
        "column_to_insert = np.zeros(len(vizinhos))\n",
        "\n",
        "vizinhosExpandido = vizinhos\n",
        "vizinhosExpandido = np.insert(vizinhosExpandido, 2, column_to_insert, axis=1)\n",
        "vizinhosExpandido = np.insert(vizinhosExpandido, vizinhosExpandido.shape[1], column_to_insert, axis=1)\n",
        "vizinhosExpandido"
      ]
    },
    {
      "cell_type": "markdown",
      "metadata": {},
      "source": [
        "registro = []\n",
        "\n",
        "for cont, j in enumerate(vizinhosExpandido):\n",
        "    #print(j[0:2])\n",
        "    if cont == 0:\n",
        "        #print(vizinhosExpandido)\n",
        "        vizinhosExpandido[cont][2] = grupo\n",
        "        vizinhosExpandido[cont][5] = grupo\n",
        "        registro.append(list(vizinhosExpandido[cont][:2]))\n",
        "        registro.append(list(vizinhosExpandido[cont][2:4]))\n",
        "    if cont > 0:\n",
        "        if (j[:2] == registro).all(axis=1).any() or (j[3:5] == registro).all(axis=1).any():\n",
        "            vizinhosExpandido[cont][2] = grupo\n",
        "            vizinhosExpandido[cont][5] = grupo\n",
        "            registro.append(list(vizinhosExpandido[cont][:2]))\n",
        "            registro.append(list(vizinhosExpandido[cont][2:4]))\n",
        "        else:\n",
        "            grupo += 1\n",
        "            vizinhosExpandido[cont][2] = grupo\n",
        "            vizinhosExpandido[cont][5] = grupo\n",
        "            registro.append(list(vizinhosExpandido[cont][:2]))\n",
        "            registro.append(list(vizinhosExpandido[cont][2:4]))"
      ]
    },
    {
      "cell_type": "markdown",
      "metadata": {},
      "source": [
        "vizinhosExpandido = np.sort(np.concatenate(np.hsplit(vizinhosExpandido, 2))).tolist()\n",
        "vizinhosExpandido"
      ]
    },
    {
      "cell_type": "code",
      "execution_count": null,
      "metadata": {},
      "outputs": [],
      "source": []
    },
    {
      "cell_type": "code",
      "execution_count": 642,
      "metadata": {},
      "outputs": [],
      "source": [
        "registro.sort()\n",
        "registroSemDuplicados = list(registro for registro, _ in itertools.groupby(registro))"
      ]
    },
    {
      "cell_type": "code",
      "execution_count": 643,
      "metadata": {},
      "outputs": [
        {
          "data": {
            "text/plain": [
              "[[0, 0],\n",
              " [0, 1],\n",
              " [0, 0],\n",
              " [1, 0],\n",
              " [1, 2],\n",
              " [2, 2],\n",
              " [2, 1],\n",
              " [2, 2],\n",
              " [2, 2],\n",
              " [3, 2],\n",
              " [2, 4],\n",
              " [3, 4],\n",
              " [3, 0],\n",
              " [4, 0],\n",
              " [3, 2],\n",
              " [4, 2],\n",
              " [4, 2],\n",
              " [4, 3]]"
            ]
          },
          "execution_count": 643,
          "metadata": {},
          "output_type": "execute_result"
        }
      ],
      "source": [
        "registro = []\n",
        "\n",
        "for cont, j in enumerate(vizinhosExpandido):\n",
        "    \n",
        "    if cont == 0:\n",
        "        vizinhosExpandido[cont][2] = grupo\n",
        "        vizinhosExpandido[cont][5] = grupo\n",
        "        registro.append(vizinhosExpandido[cont][:2])\n",
        "        registro.append(vizinhosExpandido[cont][3:5])\n",
        "        #print(registro)\n",
        "    \n",
        "    if cont > 0:\n",
        "        \n",
        "        if (j[:3] in registro) or (j[3:] in registro):\n",
        "            vizinhosExpandido[cont][2] = grupo\n",
        "            vizinhosExpandido[cont][5] = grupo\n",
        "            registro.append(vizinhosExpandido[cont][:2])\n",
        "            registro.append(vizinhosExpandido[cont][3:5])\n",
        "        \n",
        "        else:\n",
        "            grupo += 1\n",
        "            vizinhosExpandido[cont][2] = grupo\n",
        "            vizinhosExpandido[cont][5] = grupo\n",
        "            registro.append(vizinhosExpandido[cont][:2])\n",
        "            registro.append(vizinhosExpandido[cont][3:5])\n",
        "            \n",
        "            \n",
        "registro"
      ]
    },
    {
      "cell_type": "code",
      "execution_count": 644,
      "metadata": {},
      "outputs": [
        {
          "data": {
            "text/plain": [
              "[[0, 0, 9, 0, 1, 9],\n",
              " [0, 0, 10, 1, 0, 10],\n",
              " [1, 2, 11, 2, 2, 11],\n",
              " [2, 1, 12, 2, 2, 12],\n",
              " [2, 2, 13, 3, 2, 13],\n",
              " [2, 4, 14, 3, 4, 14],\n",
              " [3, 0, 15, 4, 0, 15],\n",
              " [3, 2, 16, 4, 2, 16],\n",
              " [4, 2, 17, 4, 3, 17]]"
            ]
          },
          "execution_count": 644,
          "metadata": {},
          "output_type": "execute_result"
        }
      ],
      "source": [
        "vizinhosExpandido"
      ]
    },
    {
      "cell_type": "code",
      "execution_count": 645,
      "metadata": {},
      "outputs": [
        {
          "name": "stdout",
          "output_type": "stream",
          "text": [
            "[0, 0, 10]\n",
            "[17, 0, 1]\n"
          ]
        },
        {
          "ename": "AttributeError",
          "evalue": "'bool' object has no attribute 'all'",
          "output_type": "error",
          "traceback": [
            "\u001b[1;31m---------------------------------------------------------------------------\u001b[0m",
            "\u001b[1;31mAttributeError\u001b[0m                            Traceback (most recent call last)",
            "\u001b[1;32md:\\OneDrive\\Documentos\\pythonworkspace\\src\\github.com\\problems\\lake_area_problem_2.ipynb Cell 36'\u001b[0m in \u001b[0;36m<module>\u001b[1;34m\u001b[0m\n\u001b[0;32m     <a href='vscode-notebook-cell:/d%3A/OneDrive/Documentos/pythonworkspace/src/github.com/problems/lake_area_problem_2.ipynb#ch0000028?line=13'>14</a>\u001b[0m \u001b[39mprint\u001b[39m(j[:\u001b[39m3\u001b[39m])\n\u001b[0;32m     <a href='vscode-notebook-cell:/d%3A/OneDrive/Documentos/pythonworkspace/src/github.com/problems/lake_area_problem_2.ipynb#ch0000028?line=14'>15</a>\u001b[0m \u001b[39mprint\u001b[39m(registro[\u001b[39m1\u001b[39m])\n\u001b[1;32m---> <a href='vscode-notebook-cell:/d%3A/OneDrive/Documentos/pythonworkspace/src/github.com/problems/lake_area_problem_2.ipynb#ch0000028?line=16'>17</a>\u001b[0m \u001b[39mif\u001b[39;00m (j[:\u001b[39m3\u001b[39;49m] \u001b[39m==\u001b[39;49m registro)\u001b[39m.\u001b[39;49mall(axis\u001b[39m=\u001b[39m\u001b[39m1\u001b[39m)\u001b[39m.\u001b[39many() \u001b[39mor\u001b[39;00m (j[\u001b[39m3\u001b[39m:] \u001b[39m==\u001b[39m registro)\u001b[39m.\u001b[39mall(axis\u001b[39m=\u001b[39m\u001b[39m1\u001b[39m)\u001b[39m.\u001b[39many():\n\u001b[0;32m     <a href='vscode-notebook-cell:/d%3A/OneDrive/Documentos/pythonworkspace/src/github.com/problems/lake_area_problem_2.ipynb#ch0000028?line=17'>18</a>\u001b[0m     vizinhosExpandido[cont][\u001b[39m2\u001b[39m] \u001b[39m=\u001b[39m grupo\n\u001b[0;32m     <a href='vscode-notebook-cell:/d%3A/OneDrive/Documentos/pythonworkspace/src/github.com/problems/lake_area_problem_2.ipynb#ch0000028?line=18'>19</a>\u001b[0m     vizinhosExpandido[cont][\u001b[39m5\u001b[39m] \u001b[39m=\u001b[39m grupo\n",
            "\u001b[1;31mAttributeError\u001b[0m: 'bool' object has no attribute 'all'"
          ]
        }
      ],
      "source": [
        "registro = []\n",
        "\n",
        "for cont, j in enumerate(vizinhosExpandido):\n",
        "    \n",
        "    if cont == 0:\n",
        "        vizinhosExpandido[cont][2] = grupo\n",
        "        vizinhosExpandido[cont][5] = grupo\n",
        "        registro.append(vizinhosExpandido[cont][:3])\n",
        "        registro.append(vizinhosExpandido[cont][2:5])\n",
        "        #print(registro)\n",
        "    \n",
        "    if cont > 0:\n",
        "        #print(cont)\n",
        "        print(j[:3])\n",
        "        print(registro[1])\n",
        "        \n",
        "        if (j[:3] == registro).all(axis=1).any() or (j[3:] == registro).all(axis=1).any():\n",
        "            vizinhosExpandido[cont][2] = grupo\n",
        "            vizinhosExpandido[cont][5] = grupo\n",
        "            registro.append(vizinhosExpandido[cont][:3])\n",
        "            registro.append(vizinhosExpandido[cont][2:4])\n",
        "        \n",
        "        else:\n",
        "            grupo += 1\n",
        "            vizinhosExpandido[cont][2] = grupo\n",
        "            vizinhosExpandido[cont][5] = grupo\n",
        "            registro.append(vizinhosExpandido[cont][:3])\n",
        "            registro.append(vizinhosExpandido[cont][2:5])\n",
        "\n",
        "registro"
      ]
    },
    {
      "cell_type": "code",
      "execution_count": null,
      "metadata": {},
      "outputs": [
        {
          "data": {
            "text/plain": [
              "[[0, 0, 1], [1, 0, 1]]"
            ]
          },
          "execution_count": 208,
          "metadata": {},
          "output_type": "execute_result"
        }
      ],
      "source": [
        "registro"
      ]
    },
    {
      "cell_type": "code",
      "execution_count": null,
      "metadata": {},
      "outputs": [
        {
          "data": {
            "text/plain": [
              "array([[0, 0, 1, 0, 1, 1],\n",
              "       [0, 0, 1, 1, 0, 1],\n",
              "       [1, 2, 2, 2, 2, 2],\n",
              "       [2, 1, 2, 2, 2, 2],\n",
              "       [2, 2, 2, 3, 2, 2],\n",
              "       [2, 4, 3, 3, 4, 3],\n",
              "       [3, 0, 4, 4, 0, 4],\n",
              "       [3, 2, 5, 4, 2, 5],\n",
              "       [4, 2, 6, 4, 3, 6]])"
            ]
          },
          "execution_count": 1717,
          "metadata": {},
          "output_type": "execute_result"
        }
      ],
      "source": [
        "vizinhosExpandido"
      ]
    },
    {
      "cell_type": "code",
      "execution_count": null,
      "metadata": {},
      "outputs": [
        {
          "data": {
            "text/plain": [
              "False"
            ]
          },
          "execution_count": 1718,
          "metadata": {},
          "output_type": "execute_result"
        }
      ],
      "source": [
        "check = np.array([0, 1])\n",
        "comparison = (check == registro).all(axis=1).any()\n",
        "comparison"
      ]
    },
    {
      "cell_type": "code",
      "execution_count": null,
      "metadata": {},
      "outputs": [],
      "source": [
        "classifier = 1\n",
        "\n",
        "for i in range(1, len(vizinhos)):\n",
        "    pass"
      ]
    },
    {
      "cell_type": "code",
      "execution_count": null,
      "metadata": {},
      "outputs": [],
      "source": []
    },
    {
      "cell_type": "code",
      "execution_count": null,
      "metadata": {},
      "outputs": [],
      "source": []
    },
    {
      "cell_type": "code",
      "execution_count": null,
      "metadata": {},
      "outputs": [],
      "source": []
    },
    {
      "cell_type": "code",
      "execution_count": null,
      "metadata": {},
      "outputs": [],
      "source": []
    },
    {
      "cell_type": "code",
      "execution_count": null,
      "metadata": {},
      "outputs": [
        {
          "data": {
            "text/plain": [
              "array([[0, 0],\n",
              "       [0, 0],\n",
              "       [1, 2],\n",
              "       [2, 1],\n",
              "       [2, 2],\n",
              "       [2, 4],\n",
              "       [3, 0],\n",
              "       [3, 2],\n",
              "       [4, 2]])"
            ]
          },
          "execution_count": 1721,
          "metadata": {},
          "output_type": "execute_result"
        }
      ],
      "source": [
        "vizinhos12 = vizinhos[:, 0:2]\n",
        "vizinhos12"
      ]
    },
    {
      "cell_type": "code",
      "execution_count": null,
      "metadata": {},
      "outputs": [
        {
          "data": {
            "text/plain": [
              "array([[0, 0],\n",
              "       [0, 0],\n",
              "       [1, 2],\n",
              "       [2, 1],\n",
              "       [2, 2],\n",
              "       [2, 4],\n",
              "       [3, 0],\n",
              "       [3, 2],\n",
              "       [4, 2]])"
            ]
          },
          "execution_count": 1957,
          "metadata": {},
          "output_type": "execute_result"
        }
      ],
      "source": [
        "vizinhos12[:]"
      ]
    },
    {
      "cell_type": "code",
      "execution_count": null,
      "metadata": {},
      "outputs": [
        {
          "data": {
            "text/plain": [
              "9"
            ]
          },
          "execution_count": 1722,
          "metadata": {},
          "output_type": "execute_result"
        }
      ],
      "source": [
        "len(vizinhos)"
      ]
    },
    {
      "cell_type": "code",
      "execution_count": null,
      "metadata": {},
      "outputs": [
        {
          "data": {
            "text/plain": [
              "array([[1, 0, 1, 1],\n",
              "       [1, 1, 0, 1],\n",
              "       [2, 2, 2, 2],\n",
              "       [2, 2, 2, 2],\n",
              "       [2, 3, 2, 2],\n",
              "       [3, 3, 4, 3],\n",
              "       [4, 4, 0, 4],\n",
              "       [5, 4, 2, 5],\n",
              "       [6, 4, 3, 6]])"
            ]
          },
          "execution_count": 1723,
          "metadata": {},
          "output_type": "execute_result"
        }
      ],
      "source": [
        "vizinhos34 = vizinhos[:, 2:]\n",
        "vizinhos34"
      ]
    },
    {
      "cell_type": "code",
      "execution_count": null,
      "metadata": {},
      "outputs": [
        {
          "ename": "ValueError",
          "evalue": "all the input array dimensions for the concatenation axis must match exactly, but along dimension 1, the array at index 0 has size 2 and the array at index 1 has size 4",
          "output_type": "error",
          "traceback": [
            "\u001b[1;31m---------------------------------------------------------------------------\u001b[0m",
            "\u001b[1;31mValueError\u001b[0m                                Traceback (most recent call last)",
            "\u001b[1;32md:\\OneDrive\\Documentos\\pythonworkspace\\src\\github.com\\problems\\lake_area_problem_2.ipynb Cell 33'\u001b[0m in \u001b[0;36m<module>\u001b[1;34m\u001b[0m\n\u001b[1;32m----> <a href='vscode-notebook-cell:/d%3A/OneDrive/Documentos/pythonworkspace/src/github.com/problems/lake_area_problem_2.ipynb#ch0000044?line=0'>1</a>\u001b[0m vizinhosVertical \u001b[39m=\u001b[39m np\u001b[39m.\u001b[39;49mconcatenate((vizinhos[:, \u001b[39m0\u001b[39;49m:\u001b[39m2\u001b[39;49m], vizinhos[:, \u001b[39m2\u001b[39;49m:]), axis\u001b[39m=\u001b[39;49m\u001b[39m0\u001b[39;49m)\n\u001b[0;32m      <a href='vscode-notebook-cell:/d%3A/OneDrive/Documentos/pythonworkspace/src/github.com/problems/lake_area_problem_2.ipynb#ch0000044?line=1'>2</a>\u001b[0m vizinhosVertical\u001b[39m.\u001b[39msort(axis\u001b[39m=\u001b[39m\u001b[39m1\u001b[39m)\n\u001b[0;32m      <a href='vscode-notebook-cell:/d%3A/OneDrive/Documentos/pythonworkspace/src/github.com/problems/lake_area_problem_2.ipynb#ch0000044?line=2'>3</a>\u001b[0m vizinhosVertical \u001b[39m=\u001b[39m np\u001b[39m.\u001b[39munique(vizinhosVertical, axis\u001b[39m=\u001b[39m\u001b[39m0\u001b[39m)\n",
            "File \u001b[1;32m<__array_function__ internals>:180\u001b[0m, in \u001b[0;36mconcatenate\u001b[1;34m(*args, **kwargs)\u001b[0m\n",
            "\u001b[1;31mValueError\u001b[0m: all the input array dimensions for the concatenation axis must match exactly, but along dimension 1, the array at index 0 has size 2 and the array at index 1 has size 4"
          ]
        }
      ],
      "source": [
        "vizinhosVertical = np.concatenate((vizinhos[:, 0:2], vizinhos[:, 2:]), axis=0)\n",
        "vizinhosVertical.sort(axis=1)\n",
        "vizinhosVertical = np.unique(vizinhosVertical, axis=0)\n",
        "vizinhosVertical"
      ]
    },
    {
      "cell_type": "code",
      "execution_count": null,
      "metadata": {},
      "outputs": [
        {
          "data": {
            "text/plain": [
              "array([[0, 0],\n",
              "       [0, 1],\n",
              "       [0, 3],\n",
              "       [0, 4],\n",
              "       [1, 2],\n",
              "       [2, 2],\n",
              "       [2, 3],\n",
              "       [2, 4],\n",
              "       [3, 4]])"
            ]
          },
          "execution_count": 1650,
          "metadata": {},
          "output_type": "execute_result"
        }
      ],
      "source": [
        "np.unique(vizinhosVertical, axis=0)"
      ]
    }
  ],
  "metadata": {
    "colab": {
      "name": "lake_area_problem.ipynb",
      "provenance": []
    },
    "kernelspec": {
      "display_name": "Python 3",
      "name": "python3"
    },
    "language_info": {
      "codemirror_mode": {
        "name": "ipython",
        "version": 3
      },
      "file_extension": ".py",
      "mimetype": "text/x-python",
      "name": "python",
      "nbconvert_exporter": "python",
      "pygments_lexer": "ipython3",
      "version": "3.10.2"
    }
  },
  "nbformat": 4,
  "nbformat_minor": 0
}
