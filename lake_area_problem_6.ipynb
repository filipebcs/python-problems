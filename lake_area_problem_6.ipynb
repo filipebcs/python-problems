{
  "cells": [
    {
      "cell_type": "markdown",
      "metadata": {
        "id": "3ZLqMhUapp4O"
      },
      "source": [
        "# Exercício Python no notebook Google Colab"
      ]
    },
    {
      "cell_type": "markdown",
      "metadata": {
        "id": "2RVMzCvAyQtB"
      },
      "source": [
        "ATENÇÃO: Primeiro copie esse notebook para sua área, resolva-o e retorne o seu link no formulário, não esquecendo de compartilhar o seu notebook Colab com qualquer pessoa que tenha acesso ao link."
      ]
    },
    {
      "cell_type": "markdown",
      "metadata": {
        "id": "oiBYTaycO4AS"
      },
      "source": [
        "## Preencha seu nome e email:\n",
        "\n",
        "Nome: Filipe de Castro Borges da Silveira\n",
        "\n",
        "Email: filipebcs8@gmail.com"
      ]
    },
    {
      "cell_type": "markdown",
      "metadata": {
        "id": "0Zj3u99uRFqI"
      },
      "source": [
        "## Enunciado\n",
        "Você receberá uma matriz (uma lista de listas) de, possivelmente, altura e largura diferentes contendo apenas `0`s e `1`s. Cada `0` representa terra e cada `1` representa água. Uma lagoa é composta por qualquer número de `1`s verticalmente ou horizontalmente adjacentes (mas não diagonalmente adjacentes). O número de `1`s adjacentes determina a área da lagoa.\n",
        "\n",
        "Escreva uma função que retorna uma lista com as áreas das lagoas contidas na matriz em ordem crescente."
      ]
    },
    {
      "cell_type": "markdown",
      "metadata": {
        "id": "46MxEtZhVS1Q"
      },
      "source": [
        "Um exemplo é:\n",
        "\n",
        "Dada a matriz\n",
        "\n",
        "```\n",
        "matrix = [\n",
        "    [1, 1, 0, 1, 0],\n",
        "    [1, 0, 1, 0, 0],\n",
        "    [0, 0, 1, 0, 1],\n",
        "    [1, 0, 1, 0, 1],\n",
        "    [1, 0, 1, 1, 0]\n",
        "]\n",
        "```\n",
        "A resposta esperada é uma lista com os tamanhos dos rios\n",
        "\n",
        "```\n",
        "sizes = [1, 2, 2, 3, 5]\n",
        "```"
      ]
    },
    {
      "cell_type": "markdown",
      "metadata": {
        "id": "JH3Ixn1AUu8O"
      },
      "source": [
        "Os critérios de avaliação são legibilidade do código e corretude do algoritmo, outros aspectos como performance e técnicas de programação não serão avaliados."
      ]
    },
    {
      "cell_type": "markdown",
      "metadata": {
        "id": "JgW3yfL5Sux1"
      },
      "source": [
        "Você pode usar qualquer função built-in do python, pode utilizar funções auxiliares, criar classes e etc. Deve-se apenas manter a assinatura da função `lake_areas`. Na dúvida, submeter sua melhor tentativa documentando seu raciocínio é melhor do que não submeter nada :)"
      ]
    },
    {
      "cell_type": "code",
      "execution_count": 1,
      "metadata": {
        "colab": {
          "base_uri": "https://localhost:8080/"
        },
        "id": "a2ACOVHL1BvQ",
        "outputId": "02d01684-b184-475d-b485-7af9a3d7818c"
      },
      "outputs": [],
      "source": [
        "# Importar bibliotecas relevantes\n",
        "import numpy as np\n",
        "import pandas as pd"
      ]
    },
    {
      "cell_type": "code",
      "execution_count": 2,
      "metadata": {
        "id": "ZqixjszATBjE"
      },
      "outputs": [],
      "source": [
        "from typing import List\n",
        "\n",
        "# FUNÇÃO QUE RETORNA OS TAMANHOS DE LAGO ENCONTRADOS\n",
        "def lake_areas(matrix: List[List[int]]) -> List[int]:\n",
        "    matrix = np.array(matrix)\n",
        "    \n",
        "    # Identificar as respectivas linhas e colunas de cada entrada '1' na matriz\n",
        "    for i in range(matrix.shape[0]):\n",
        "        \n",
        "        for j in range(matrix.shape[1]):\n",
        "        \n",
        "            # Percorrer a matriz e identificar a posição (linha e coluna) cujas entradas são '1'\n",
        "            if matrix[i][j] == 1:\n",
        "                linhas.append(i)\n",
        "                colunas.append(j)\n",
        "                \n",
        "    # Monta um array com as posições das entradas '1' no formato \"['linha', 'coluna']\"\n",
        "    posicoes = np.column_stack((np.array(linhas), np.array(colunas)))\n",
        "    \n",
        "    # Inicializar a matriz de classificação de grupos\n",
        "    posicoesGrupo = np.zeros(len(posicoes))\n",
        "    posicoesGrupo[0] = 1\n",
        "\n",
        "    # Montar matriz cujas colunas 0 e 1 são o ponto de referência e colunas 2 e 3 são o ponto comparador\n",
        "    for referencia in range(posicoes.shape[0]):\n",
        "        \n",
        "        for comparador in range(referencia+1, posicoes.shape[0]):\n",
        "            \n",
        "            # Verificar se algum grupo foi designado para esse ponto\n",
        "            # se 0, esse ponto não foi analisado ainda\n",
        "            # se 1, esse ponto já foi analisado\n",
        "            if posicoesGrupo[referencia] == 0:\n",
        "                posicoesGrupo[referencia] = max(posicoesGrupo) + 1\n",
        "            \n",
        "            # Calcular a distância entre o ponto de referência e o ponto comparador\n",
        "            posicaoRelativa = np.sum(abs(posicoes[referencia] - posicoes[comparador]))\n",
        "            \n",
        "            # Verificar se a distância entre a posição de referência e a posição de comparador é igual ou menor do que 1\n",
        "            if posicaoRelativa <= 1:\n",
        "                \n",
        "                # Atribuir o mesmo grupo da posição de referência à posição comparador\n",
        "                if posicoesGrupo[comparador] == 0:\n",
        "                    posicoesGrupo[comparador] = posicoesGrupo[referencia]\n",
        "                \n",
        "                # Caso a posição de referência e a posição comparador sejam diferentes e estejam a uma distância menor ou\n",
        "                # ou igual a '1', atribui-se a ambas as posições o menor valor de grupo entre as duas. Isso evita que se \n",
        "                # tenha posições adjacentes horizontal e verticalmente designadas a grupos diferentes.\n",
        "                if posicoesGrupo[comparador] != posicoesGrupo[referencia]:\n",
        "                    posicoesGrupo[referencia] = min(posicoesGrupo[referencia], posicoesGrupo[comparador])\n",
        "        \n",
        "        # Checar se esta é a última posição e atribuir grupo a ela\n",
        "        if (referencia == len(posicoesGrupo)-1) and (posicoesGrupo[-1] == 0):\n",
        "            posicoesGrupo[-1] = max(posicoesGrupo) + 1\n",
        "    \n",
        "    # Atribuir um grupo a cada ponto '1' da matriz\n",
        "    posicoesGrupoLista = [int(i) for i in list(posicoesGrupo)]\n",
        "    posicoesGrupoLista\n",
        "    \n",
        "    # Identificar quantos grupos há na matriz\n",
        "    tamanhos = np.unique(posicoesGrupoLista)\n",
        "    tamanhos\n",
        "    \n",
        "    # Contar quantas ocorrências há de cada grupo \n",
        "    for cont in range(len(tamanhos)):\n",
        "        contagem.append(posicoesGrupoLista.count(tamanhos[cont]))\n",
        "    \n",
        "    return tamanhos"
      ]
    },
    {
      "cell_type": "code",
      "execution_count": 3,
      "metadata": {},
      "outputs": [],
      "source": [
        "# Inicializar arrays vazios\n",
        "colunas = []\n",
        "linhas = []\n",
        "posicoes = []\n",
        "contagem = []"
      ]
    },
    {
      "cell_type": "code",
      "execution_count": 4,
      "metadata": {},
      "outputs": [],
      "source": [
        "# Definir a matriz de lagos (original)\n",
        "matrix = [\n",
        "    [1, 1, 0, 1, 0],\n",
        "    [1, 0, 1, 0, 0],\n",
        "    [0, 0, 1, 0, 1],\n",
        "    [1, 0, 1, 0, 1],\n",
        "    [1, 0, 1, 1, 0]\n",
        "]\n",
        "#matrix = np.array(matrix)"
      ]
    },
    {
      "cell_type": "code",
      "execution_count": 5,
      "metadata": {},
      "outputs": [],
      "source": [
        "# Definir a matriz de lagos (teste)\n",
        "matrix_2 = [\n",
        "    [1, 1, 0, 1, 0, 0],\n",
        "    [1, 0, 1, 0, 0, 1],\n",
        "    [0, 1, 1, 0, 1, 0],\n",
        "    [1, 0, 1, 0, 1, 0],\n",
        "    [1, 0, 1, 1, 0, 1]\n",
        "]\n",
        "# matrix_2 = np.array(matrix_2)"
      ]
    },
    {
      "cell_type": "code",
      "execution_count": 6,
      "metadata": {},
      "outputs": [],
      "source": [
        "# Definir a matriz de lagos (teste)\n",
        "matrix_2 = [\n",
        "    [1, 1, 0, 1, 0, 0],\n",
        "    [1, 0, 1, 0, 0, 1],\n",
        "    [0, 1, 1, 0, 1, 0],\n",
        "    [1, 0, 1, 0, 0, 0],\n",
        "    [1, 0, 1, 0, 1, 1]\n",
        "]\n",
        "# matrix_2 = np.array(matrix_2)"
      ]
    },
    {
      "cell_type": "markdown",
      "metadata": {},
      "source": [
        "# Identificar as respectivas linhas e colunas de cada entrada '1' na matriz\n",
        "for i in range(matrix.shape[0]):\n",
        "    \n",
        "    for j in range(matrix.shape[1]):\n",
        "    \n",
        "        if matrix[i][j] == 1:\n",
        "            #entradas.append([i, j])\n",
        "            linhas.append(i)\n",
        "            colunas.append(j)\n",
        "            \n",
        "# Monta um array com as posições das entradas '1' no formato \"['linha', 'coluna']\"\n",
        "posicoes = np.column_stack((np.array(linhas), np.array(colunas)))"
      ]
    },
    {
      "cell_type": "markdown",
      "metadata": {},
      "source": [
        "# Inicializar a matriz de classificação de grupos\n",
        "posicoesGrupo = np.zeros(len(posicoes))\n",
        "posicoesGrupo[0] = 1\n",
        "\n",
        "# Montar matriz cujas colunas 0 e 1 são o ponto de referência e colunas 2 e 3 são o ponto comparador\n",
        "for referencia in range(posicoes.shape[0]):\n",
        "    \n",
        "    for comparador in range(referencia+1, posicoes.shape[0]):\n",
        "        \n",
        "        if posicoesGrupo[referencia] == 0:\n",
        "            posicoesGrupo[referencia] = max(posicoesGrupo) + 1\n",
        "        \n",
        "        # Calcular a distância entre o ponto de referência e o ponto comparador\n",
        "        posicaoRelativa = np.sum(abs(posicoes[referencia] - posicoes[comparador]))\n",
        "        \n",
        "        if posicaoRelativa <= 1:\n",
        "            \n",
        "            if posicoesGrupo[comparador] == 0:\n",
        "                posicoesGrupo[comparador] = posicoesGrupo[referencia]\n",
        "                \n",
        "            if posicoesGrupo[comparador] != posicoesGrupo[referencia]:\n",
        "                posicoesGrupo[referencia] = min(posicoesGrupo[referencia], posicoesGrupo[comparador])\n",
        "        \n",
        "    if (referencia == len(posicoesGrupo)-1) and (posicoesGrupo[-1] == 0):\n",
        "        posicoesGrupo[-1] = max(posicoesGrupo) + 1"
      ]
    },
    {
      "cell_type": "markdown",
      "metadata": {},
      "source": [
        "# Atribuir um grupo a cada ponto '1' da matriz\n",
        "posicoesGrupoLista = [int(i) for i in list(posicoesGrupo)]\n",
        "posicoesGrupoLista"
      ]
    },
    {
      "cell_type": "markdown",
      "metadata": {},
      "source": [
        "# Identificar quantos grupos há na matriz\n",
        "ocorrencias = np.unique(posicoesGrupoLista)\n",
        "ocorrencias"
      ]
    },
    {
      "cell_type": "markdown",
      "metadata": {},
      "source": [
        "# Contar quantas ocorrências há de cada grupo \n",
        "for cont in range(len(ocorrencias)):\n",
        "    contagem.append(posicoesGrupoLista.count(ocorrencias[cont]))\n",
        "    \n",
        "contagem"
      ]
    },
    {
      "cell_type": "code",
      "execution_count": 7,
      "metadata": {},
      "outputs": [
        {
          "data": {
            "text/plain": [
              "array([1, 2, 3, 4, 5])"
            ]
          },
          "execution_count": 7,
          "metadata": {},
          "output_type": "execute_result"
        }
      ],
      "source": [
        "lakeCont = lake_areas(matrix)\n",
        "lakeCont"
      ]
    }
  ],
  "metadata": {
    "colab": {
      "name": "lake_area_problem.ipynb",
      "provenance": []
    },
    "kernelspec": {
      "display_name": "Python 3",
      "name": "python3"
    },
    "language_info": {
      "codemirror_mode": {
        "name": "ipython",
        "version": 3
      },
      "file_extension": ".py",
      "mimetype": "text/x-python",
      "name": "python",
      "nbconvert_exporter": "python",
      "pygments_lexer": "ipython3",
      "version": "3.10.2"
    }
  },
  "nbformat": 4,
  "nbformat_minor": 0
}
